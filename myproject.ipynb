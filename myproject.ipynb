{
 "cells": [
  {
   "metadata": {
    "ExecuteTime": {
     "end_time": "2025-09-16T15:24:11.658833Z",
     "start_time": "2025-09-16T15:24:08.295959Z"
    }
   },
   "cell_type": "code",
   "source": [
    "# 1. Importar librerías\n",
    "import pandas as pd\n",
    "from sklearn.model_selection import train_test_split\n",
    "from sklearn.linear_model import LinearRegression\n",
    "from sklearn.metrics import mean_squared_error, r2_score\n",
    "import numpy as np\n",
    "import joblib  # para guardar y cargar modelos\n",
    "\n",
    "# 2. Cargar dataset desde URL\n",
    "url = \"https://raw.githubusercontent.com/ageron/handson-ml/master/datasets/housing/housing.csv\"\n",
    "df = pd.read_csv(url)\n",
    "\n",
    "# 3. Explorar datos (ver primeras filas)\n",
    "print(\"Primeras filas del dataset:\")\n",
    "print(df.head())\n",
    "\n",
    "# 4. Preprocesar datos\n",
    "X = df[[\"median_income\", \"housing_median_age\", \"total_rooms\", \"population\"]]\n",
    "y = df[\"median_house_value\"]\n",
    "\n",
    "# 5. Separar en entrenamiento y prueba\n",
    "X_train, X_test, y_train, y_test = train_test_split(\n",
    "    X, y, test_size=0.2, random_state=42\n",
    ")\n",
    "\n",
    "# 6. Definir el modelo\n",
    "model = LinearRegression()\n",
    "\n",
    "# 7. Entrenar\n",
    "model.fit(X_train, y_train)\n",
    "\n",
    "# 8. Guardar el modelo entrenado\n",
    "joblib.dump(model, \"modeloentrenado.joblib\")\n",
    "print(\"Modelo entrenado y guardado como 'modeloentrenado.joblib'\")\n",
    "\n",
    "# 9. Cargar el modelo en otro momento\n",
    "modelo_cargado = joblib.load(\"modeloentrenado.joblib\")\n",
    "\n",
    "# 10. Predecir con el modelo cargado\n",
    "y_pred = modelo_cargado.predict(X_test)\n",
    "\n",
    "# 11. Evaluar el modelo\n",
    "mse = mean_squared_error(y_test, y_pred)\n",
    "rmse = np.sqrt(mse)\n",
    "r2 = r2_score(y_test, y_pred)\n",
    "\n",
    "print(\"\\nResultados del modelo cargado:\")\n",
    "print(f\"Error cuadrático medio (MSE): {mse:.2f}\")\n",
    "print(f\"Raíz del MSE (RMSE): {rmse:.2f}\")\n",
    "print(f\"R² Score: {r2:.4f}\")\n",
    "\n",
    "\n",
    "\n"
   ],
   "id": "fbc121e30a2defb3",
   "outputs": [
    {
     "name": "stdout",
     "output_type": "stream",
     "text": [
      "Primeras filas del dataset:\n",
      "   longitude  latitude  housing_median_age  total_rooms  total_bedrooms  \\\n",
      "0    -122.23     37.88                41.0        880.0           129.0   \n",
      "1    -122.22     37.86                21.0       7099.0          1106.0   \n",
      "2    -122.24     37.85                52.0       1467.0           190.0   \n",
      "3    -122.25     37.85                52.0       1274.0           235.0   \n",
      "4    -122.25     37.85                52.0       1627.0           280.0   \n",
      "\n",
      "   population  households  median_income  median_house_value ocean_proximity  \n",
      "0       322.0       126.0         8.3252            452600.0        NEAR BAY  \n",
      "1      2401.0      1138.0         8.3014            358500.0        NEAR BAY  \n",
      "2       496.0       177.0         7.2574            352100.0        NEAR BAY  \n",
      "3       558.0       219.0         5.6431            341300.0        NEAR BAY  \n",
      "4       565.0       259.0         3.8462            342200.0        NEAR BAY  \n",
      "Modelo entrenado y guardado como 'modeloentrenado.joblib'\n",
      "\n",
      "Resultados del modelo cargado:\n",
      "Error cuadrático medio (MSE): 6535241756.17\n",
      "Raíz del MSE (RMSE): 80840.84\n",
      "R² Score: 0.5013\n"
     ]
    }
   ],
   "execution_count": 2
  },
  {
   "metadata": {},
   "cell_type": "code",
   "outputs": [],
   "execution_count": null,
   "source": "",
   "id": "288a82214372249a"
  }
 ],
 "metadata": {
  "kernelspec": {
   "display_name": "Python 3",
   "language": "python",
   "name": "python3"
  },
  "language_info": {
   "codemirror_mode": {
    "name": "ipython",
    "version": 2
   },
   "file_extension": ".py",
   "mimetype": "text/x-python",
   "name": "python",
   "nbconvert_exporter": "python",
   "pygments_lexer": "ipython2",
   "version": "2.7.6"
  }
 },
 "nbformat": 4,
 "nbformat_minor": 5
}
